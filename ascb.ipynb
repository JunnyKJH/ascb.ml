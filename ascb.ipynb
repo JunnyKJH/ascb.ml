{
 "cells": [
  {
   "cell_type": "code",
   "execution_count": 2,
   "metadata": {},
   "outputs": [
    {
     "name": "stdout",
     "output_type": "stream",
     "text": [
      "0.834574993268\n"
     ]
    },
    {
     "data": {
      "image/png": "[encoded data removed]",
      "text/plain": [
       "<matplotlib.figure.Figure at 0xc9ae4a8>"
      ]
     },
     "metadata": {},
     "output_type": "display_data"
    },
    {
     "data": {
      "text/plain": [
       "['rf.pkl']"
      ]
     },
     "execution_count": 2,
     "metadata": {},
     "output_type": "execute_result"
    }
   ],
   "source": [
    "%matplotlib inline\n",
    "import pandas as pd\n",
    "from sklearn.ensemble import RandomForestClassifier\n",
    "from sklearn import metrics, svm\n",
    "from sklearn.model_selection import train_test_split\n",
    "from sklearn.preprocessing import LabelEncoder\n",
    "from sklearn.externals import joblib\n",
    "import matplotlib.pyplot as plt\n",
    "import numpy as np\n",
    "\n",
    "nrows = None\n",
    "\n",
    "feature_columns = ['FEE_PROD_ID','CO_CL_CD', 'SKB_CB_CRDT_GR','VAL_1','VAL_3','VAL_4','VAL_5','VAL_6','VAL_7','VAL_9','VAL_10','VAL_11','VAL_12','VAL_13','VAL_14','VAL_15','VAL_16']\n",
    "str_columns = ['FEE_PROD_ID', 'CO_CL_CD', 'SVC_CD', 'VAL_2', 'VAL_3', 'VAL_4', 'VAL_5', 'VAL_7']\n",
    "\n",
    "csv = pd.read_csv('rawdata2.csv', nrows=nrows)\n",
    "\n",
    "for col_nm in str_columns:\n",
    "    try:\n",
    "        le = LabelEncoder()\n",
    "        le.fit(csv[col_nm])\n",
    "        csv[col_nm] = le.transform(csv[col_nm])\n",
    "    except TypeError as e:\n",
    "        print(e, col_nm)\n",
    "    except ValueError as e:\n",
    "        print(e, col_nm)\n",
    "        \n",
    "#print(csv)\n",
    "\n",
    "csv_data = csv[feature_columns]\n",
    "csv_label = csv.iloc[:, 20]\n",
    "\n",
    "train_data, test_data, train_label, test_label = train_test_split(csv_data, csv_label)\n",
    "\n",
    "clf = RandomForestClassifier()\n",
    "clf.fit(train_data, train_label)\n",
    "pre = clf.predict(test_data)\n",
    "\n",
    "ac_score = metrics.accuracy_score(test_label, pre)\n",
    "print(ac_score)\n",
    "\n",
    "n_features = csv_data.shape[1]\n",
    "plt.style.use('ggplot')\n",
    "plt.barh(range(n_features), clf.feature_importances_, align='center')\n",
    "plt.yticks(np.arange(n_features), csv_data.columns)\n",
    "plt.xlabel(\"importances\")\n",
    "plt.ylabel(\"features\")\n",
    "plt.ylim(-1, n_features)\n",
    "plt.show()\n",
    "\n",
    "joblib.dump(clf, 'rf.pkl')"
   ]
  },
  {
   "cell_type": "code",
   "execution_count": 14,
   "metadata": {},
   "outputs": [
    {
     "data": {
      "text/plain": [
       "LabelEncoder()"
      ]
     },
     "execution_count": 14,
     "metadata": {},
     "output_type": "execute_result"
    }
   ],
   "source": [
    "from sklearn.preprocessing import LabelEncoder\n",
    "le = LabelEncoder()\n",
    "le.fit(csv['FEE_PROD_ID'])"
   ]
  },
  {
   "cell_type": "code",
   "execution_count": 18,
   "metadata": {},
   "outputs": [
    {
     "data": {
      "text/plain": [
       "array([ 0.07836402,  0.0005205 ,  0.01381162,  0.07649161,  0.15967309,\n",
       "        0.00058923,  0.01397244,  0.03156168,  0.08154588,  0.00921782,\n",
       "        0.0213817 ,  0.00036496,  0.01457285,  0.01915387,  0.16345904,\n",
       "        0.17992524,  0.04555395,  0.0633097 ,  0.00728403,  0.01924677])"
      ]
     },
     "execution_count": 18,
     "metadata": {},
     "output_type": "execute_result"
    }
   ],
   "source": [
    "clf.feature_importances_"
   ]
  },
  {
   "cell_type": "code",
   "execution_count": 19,
   "metadata": {},
   "outputs": [
    {
     "data": {
      "text/plain": [
       "1.0"
      ]
     },
     "execution_count": 19,
     "metadata": {},
     "output_type": "execute_result"
    }
   ],
   "source": [
    "sum(clf.feature_importances_)"
   ]
  },
  {
   "cell_type": "code",
   "execution_count": 11,
   "metadata": {},
   "outputs": [
    {
     "data": {
      "text/plain": [
       "Index(['CO_CL_CD', 'SVC_CD', 'SKB_CB_CRDT_GR', 'VAL_1', 'VAL_2', 'VAL_3',\n",
       "       'VAL_4', 'VAL_5', 'VAL_6', 'VAL_7', 'VAL_8', 'VAL_9', 'VAL_10',\n",
       "       'VAL_11', 'VAL_12', 'VAL_13', 'VAL_14', 'VAL_15', 'VAL_16'],\n",
       "      dtype='object')"
      ]
     },
     "execution_count": 11,
     "metadata": {},
     "output_type": "execute_result"
    }
   ],
   "source": [
    "csv_data.columns"
   ]
  },
  {
   "cell_type": "code",
   "execution_count": 8,
   "metadata": {
    "collapsed": true
   },
   "outputs": [],
   "source": [
    "from sklearn.datasets import load_breast_cancer\n",
    "\n",
    "cancer = load_breast_cancer()"
   ]
  },
  {
   "cell_type": "code",
   "execution_count": 9,
   "metadata": {},
   "outputs": [
    {
     "data": {
      "text/plain": [
       "sklearn.datasets.base.Bunch"
      ]
     },
     "execution_count": 9,
     "metadata": {},
     "output_type": "execute_result"
    }
   ],
   "source": [
    "type(cancer)"
   ]
  },
  {
   "cell_type": "code",
   "execution_count": 10,
   "metadata": {},
   "outputs": [
    {
     "data": {
      "text/plain": [
       "array(['mean radius', 'mean texture', 'mean perimeter', 'mean area',\n",
       "       'mean smoothness', 'mean compactness', 'mean concavity',\n",
       "       'mean concave points', 'mean symmetry', 'mean fractal dimension',\n",
       "       'radius error', 'texture error', 'perimeter error', 'area error',\n",
       "       'smoothness error', 'compactness error', 'concavity error',\n",
       "       'concave points error', 'symmetry error', 'fractal dimension error',\n",
       "       'worst radius', 'worst texture', 'worst perimeter', 'worst area',\n",
       "       'worst smoothness', 'worst compactness', 'worst concavity',\n",
       "       'worst concave points', 'worst symmetry', 'worst fractal dimension'], \n",
       "      dtype='<U23')"
      ]
     },
     "execution_count": 10,
     "metadata": {},
     "output_type": "execute_result"
    }
   ],
   "source": [
    "cancer.feature_names"
   ]
  },
  {
   "cell_type": "code",
   "execution_count": 31,
   "metadata": {
    "collapsed": true
   },
   "outputs": [],
   "source": [
    "from sklearn.externals import joblib"
   ]
  },
  {
   "cell_type": "code",
   "execution_count": 32,
   "metadata": {},
   "outputs": [
    {
     "data": {
      "text/plain": [
       "['Logger',\n",
       " 'MemorizedResult',\n",
       " 'Memory',\n",
       " 'Parallel',\n",
       " 'PrintTime',\n",
       " '__all__',\n",
       " '__builtins__',\n",
       " '__cached__',\n",
       " '__doc__',\n",
       " '__file__',\n",
       " '__loader__',\n",
       " '__name__',\n",
       " '__package__',\n",
       " '__path__',\n",
       " '__spec__',\n",
       " '__version__',\n",
       " '_compat',\n",
       " '_memory_helpers',\n",
       " '_multiprocessing_helpers',\n",
       " '_parallel_backends',\n",
       " 'cpu_count',\n",
       " 'delayed',\n",
       " 'disk',\n",
       " 'dump',\n",
       " 'effective_n_jobs',\n",
       " 'format_stack',\n",
       " 'func_inspect',\n",
       " 'hash',\n",
       " 'hashing',\n",
       " 'load',\n",
       " 'logger',\n",
       " 'memory',\n",
       " 'my_exceptions',\n",
       " 'numpy_pickle',\n",
       " 'numpy_pickle_compat',\n",
       " 'numpy_pickle_utils',\n",
       " 'parallel',\n",
       " 'parallel_backend',\n",
       " 'pool',\n",
       " 'register_parallel_backend']"
      ]
     },
     "execution_count": 32,
     "metadata": {},
     "output_type": "execute_result"
    }
   ],
   "source": [
    "dir(joblib)"
   ]
  },
  {
   "cell_type": "code",
   "execution_count": 11,
   "metadata": {},
   "outputs": [
    {
     "name": "stdout",
     "output_type": "stream",
     "text": [
      "0.92007827188\n"
     ]
    },
    {
     "data": {
      "image/png": "[encoded data removed]",
      "text/plain": [
       "<matplotlib.figure.Figure at 0x6eebcc0>"
      ]
     },
     "metadata": {},
     "output_type": "display_data"
    },
    {
     "data": {
      "text/plain": [
       "['rf.pkl']"
      ]
     },
     "execution_count": 11,
     "metadata": {},
     "output_type": "execute_result"
    }
   ],
   "source": [
    "%matplotlib inline\n",
    "import pandas as pd\n",
    "from sklearn.ensemble import RandomForestClassifier\n",
    "from sklearn import metrics, svm\n",
    "from sklearn.model_selection import train_test_split\n",
    "from sklearn.preprocessing import LabelEncoder\n",
    "from sklearn.externals import joblib\n",
    "import matplotlib.pyplot as plt\n",
    "import numpy as np\n",
    "\n",
    "nrows = None\n",
    "\n",
    "feature_columns = [\n",
    "    'FEE_PROD_ID',\n",
    "    #'SVC_CD',\n",
    "    'SKB_CB_CRDT_GR',\n",
    "    'AS_EVITM_RSLT_VAL_01',\n",
    "    #'AS_EVITM_RSLT_VAL_02',\n",
    "    'AS_EVITM_RSLT_VAL_03',\n",
    "    'AS_EVITM_RSLT_VAL_04',\n",
    "    'AS_EVITM_RSLT_VAL_05',\n",
    "    'AS_EVITM_RSLT_VAL_06',\n",
    "    'AS_EVITM_RSLT_VAL_07',\n",
    "    #'AS_EVITM_RSLT_VAL_08',\n",
    "    'AS_EVITM_RSLT_VAL_09',\n",
    "    'AS_EVITM_RSLT_VAL_10',\n",
    "    'AS_EVITM_RSLT_VAL_11',\n",
    "    'AS_EVITM_RSLT_VAL_12',\n",
    "    'AS_EVITM_RSLT_VAL_13',\n",
    "    'AS_EVITM_RSLT_VAL_14',\n",
    "    #'AS_EVITM_RSLT_VAL_15',\n",
    "    'AS_EVITM_RSLT_VAL_16'\n",
    "]\n",
    "\n",
    "str_columns = [\n",
    "    'FEE_PROD_ID',\n",
    "    'SVC_CD',\n",
    "    'AS_EVITM_RSLT_VAL_02',\n",
    "    'AS_EVITM_RSLT_VAL_03',\n",
    "    'AS_EVITM_RSLT_VAL_04',\n",
    "    'AS_EVITM_RSLT_VAL_05',\n",
    "    'AS_EVITM_RSLT_VAL_07'\n",
    "]\n",
    "\n",
    "csv = pd.read_csv('temp.csv', nrows=nrows)\n",
    "csv['AS_EVITM_RSLT_VAL_05'] = csv['AS_EVITM_RSLT_VAL_05'].fillna(value='X')\n",
    "\n",
    "for col_nm in str_columns:\n",
    "    try:\n",
    "        le = LabelEncoder()\n",
    "        le.fit(csv[col_nm])\n",
    "        csv[col_nm] = le.transform(csv[col_nm])\n",
    "    except TypeError as e:\n",
    "        print(e, col_nm)\n",
    "    except ValueError as e:\n",
    "        print(e, col_nm)\n",
    "\n",
    "#print(csv)\n",
    "\n",
    "csv_data = csv[feature_columns]\n",
    "csv_label = csv['M1']\n",
    "\n",
    "train_data, test_data, train_label, test_label = train_test_split(csv_data, csv_label)\n",
    "\n",
    "clf = RandomForestClassifier(n_estimators=100, random_state=0)\n",
    "clf.fit(train_data, train_label)\n",
    "pre = clf.predict(test_data)\n",
    "\n",
    "ac_score = metrics.accuracy_score(test_label, pre)\n",
    "print(ac_score)\n",
    "\n",
    "n_features = csv_data.shape[1]\n",
    "plt.style.use('ggplot')\n",
    "plt.barh(range(n_features), clf.feature_importances_, align='center')\n",
    "plt.yticks(np.arange(n_features), csv_data.columns)\n",
    "plt.xlabel(\"importances\")\n",
    "plt.ylabel(\"features\")\n",
    "plt.ylim(-1, n_features)\n",
    "plt.show()\n",
    "\n",
    "joblib.dump(clf, 'rf.pkl')"
   ]
  },
  {
   "cell_type": "code",
   "execution_count": 8,
   "metadata": {},
   "outputs": [
    {
     "data": {
      "text/plain": [
       "array([ 0.08703535,  0.09009931,  0.16566786,  0.0159381 ,  0.03749587,\n",
       "        0.04892768,  0.01300261,  0.02398124,  0.01738776,  0.0256318 ,\n",
       "        0.164911  ,  0.18386883,  0.04287924,  0.05989845,  0.02327489])"
      ]
     },
     "execution_count": 8,
     "metadata": {},
     "output_type": "execute_result"
    }
   ],
   "source": [
    "clf.feature_importances_"
   ]
  },
  {
   "cell_type": "code",
   "execution_count": 6,
   "metadata": {},
   "outputs": [],
   "source": [
    "RandomForestClassifier?"
   ]
  },
  {
   "cell_type": "code",
   "execution_count": 36,
   "metadata": {},
   "outputs": [
    {
     "name": "stdout",
     "output_type": "stream",
     "text": [
      "0.918007801675\n"
     ]
    },
    {
     "data": {
      "image/png": "[encoded data removed]",
      "text/plain": [
       "<matplotlib.figure.Figure at 0xd770160>"
      ]
     },
     "metadata": {},
     "output_type": "display_data"
    },
    {
     "data": {
      "text/plain": [
       "['rf.pkl']"
      ]
     },
     "execution_count": 36,
     "metadata": {},
     "output_type": "execute_result"
    }
   ],
   "source": [
    "%matplotlib inline\n",
    "import pandas as pd\n",
    "from sklearn.ensemble import RandomForestClassifier\n",
    "from sklearn import metrics, svm\n",
    "from sklearn.model_selection import train_test_split\n",
    "from sklearn.preprocessing import LabelEncoder\n",
    "from sklearn.externals import joblib\n",
    "from sklearn.grid_search import GridSearchCV\n",
    "import matplotlib.pyplot as plt\n",
    "import numpy as np\n",
    "\n",
    "nrows = None\n",
    "\n",
    "feature_columns = [\n",
    "    'FEE_PROD_ID',\n",
    "    #'SVC_CD',\n",
    "    'SKB_CB_CRDT_GR',\n",
    "    'AS_EVITM_RSLT_VAL_01',\n",
    "    #'AS_EVITM_RSLT_VAL_02',\n",
    "    'AS_EVITM_RSLT_VAL_03',\n",
    "    'AS_EVITM_RSLT_VAL_04',\n",
    "    'AS_EVITM_RSLT_VAL_05',\n",
    "    'AS_EVITM_RSLT_VAL_06',\n",
    "    'AS_EVITM_RSLT_VAL_07',\n",
    "    #'AS_EVITM_RSLT_VAL_08',\n",
    "    'AS_EVITM_RSLT_VAL_09',\n",
    "    'AS_EVITM_RSLT_VAL_10',\n",
    "    'AS_EVITM_RSLT_VAL_11',\n",
    "    'AS_EVITM_RSLT_VAL_12',\n",
    "    'AS_EVITM_RSLT_VAL_13',\n",
    "    'AS_EVITM_RSLT_VAL_14',\n",
    "    #'AS_EVITM_RSLT_VAL_15',\n",
    "    'AS_EVITM_RSLT_VAL_16'\n",
    "]\n",
    "\n",
    "str_columns = [\n",
    "    'FEE_PROD_ID',\n",
    "    'SVC_CD',\n",
    "    'AS_EVITM_RSLT_VAL_02',\n",
    "    'AS_EVITM_RSLT_VAL_03',\n",
    "    'AS_EVITM_RSLT_VAL_04',\n",
    "    'AS_EVITM_RSLT_VAL_05',\n",
    "    'AS_EVITM_RSLT_VAL_07'\n",
    "]\n",
    "\n",
    "csv = pd.read_csv('temp.csv', nrows=nrows)\n",
    "csv['AS_EVITM_RSLT_VAL_05'] = csv['AS_EVITM_RSLT_VAL_05'].fillna(value='X')\n",
    "\n",
    "for col_nm in str_columns:\n",
    "    try:\n",
    "        le = LabelEncoder()\n",
    "        le.fit(csv[col_nm])\n",
    "        csv[col_nm] = le.transform(csv[col_nm])\n",
    "    except TypeError as e:\n",
    "        print(e, col_nm)\n",
    "    except ValueError as e:\n",
    "        print(e, col_nm)\n",
    "\n",
    "#print(csv)\n",
    "\n",
    "csv_data = csv[feature_columns]\n",
    "csv_label = csv['M1']\n",
    "\n",
    "train_data, test_data, train_label, test_label = train_test_split(csv_data, csv_label, test_size=0.3)\n",
    "\n",
    "params = [\n",
    "    {\"n_estimators\" : [10, 50, 100, 500], \n",
    "     \"max_features\" : ['auto', 'sqrt', 'log2']\n",
    "    }\n",
    "]\n",
    "\n",
    "clf = RandomForestClassifier(bootstrap=True, class_weight=None, criterion='gini',\n",
    "            max_depth=None, max_features='log2', max_leaf_nodes=None,\n",
    "            min_impurity_split=1e-07, min_samples_leaf=1,\n",
    "            min_samples_split=2, min_weight_fraction_leaf=0.0,\n",
    "            n_estimators=500, n_jobs=4, oob_score=False, random_state=None,\n",
    "            verbose=0, warm_start=False)\n",
    "#clf = GridSearchCV(RandomForestClassifier(), params, n_jobs=-1)\n",
    "clf.fit(train_data, train_label)\n",
    "#print('best estimator : ', clf.best_estimator_)\n",
    "\n",
    "pre = clf.predict(test_data)\n",
    "\n",
    "ac_score = metrics.accuracy_score(test_label, pre)\n",
    "print(ac_score)\n",
    "\n",
    "n_features = csv_data.shape[1]\n",
    "plt.style.use('ggplot')\n",
    "plt.barh(range(n_features), clf.feature_importances_, align='center')\n",
    "plt.yticks(np.arange(n_features), csv_data.columns)\n",
    "plt.xlabel(\"importances\")\n",
    "plt.ylabel(\"features\")\n",
    "plt.ylim(-1, n_features)\n",
    "plt.show()\n",
    "\n",
    "joblib.dump(clf, 'rf.pkl')"
   ]
  },
  {
   "cell_type": "code",
   "execution_count": 22,
   "metadata": {},
   "outputs": [],
   "source": [
    "train_test_split?"
   ]
  },
  {
   "cell_type": "code",
   "execution_count": 25,
   "metadata": {},
   "outputs": [
    {
     "name": "stdout",
     "output_type": "stream",
     "text": [
      "each accuracy :  [ 0.88818903  0.87930042  0.87744596  0.88418865  0.89029576  0.89346123\n",
      "  0.89288569  0.8830056   0.88083133  0.88230216]\n",
      "avg accuracy :  0.88519058374\n"
     ]
    }
   ],
   "source": [
    "%matplotlib inline\n",
    "import pandas as pd\n",
    "from sklearn.ensemble import RandomForestClassifier\n",
    "from sklearn import metrics, svm\n",
    "from sklearn.model_selection import train_test_split, cross_val_score\n",
    "from sklearn.preprocessing import LabelEncoder\n",
    "from sklearn.externals import joblib\n",
    "import matplotlib.pyplot as plt\n",
    "import numpy as np\n",
    "\n",
    "nrows = None\n",
    "\n",
    "feature_columns = [\n",
    "    'FEE_PROD_ID',\n",
    "    #'SVC_CD',\n",
    "    'SKB_CB_CRDT_GR',\n",
    "    'AS_EVITM_RSLT_VAL_01',\n",
    "    #'AS_EVITM_RSLT_VAL_02',\n",
    "    'AS_EVITM_RSLT_VAL_03',\n",
    "    'AS_EVITM_RSLT_VAL_04',\n",
    "    'AS_EVITM_RSLT_VAL_05',\n",
    "    'AS_EVITM_RSLT_VAL_06',\n",
    "    'AS_EVITM_RSLT_VAL_07',\n",
    "    #'AS_EVITM_RSLT_VAL_08',\n",
    "    'AS_EVITM_RSLT_VAL_09',\n",
    "    'AS_EVITM_RSLT_VAL_10',\n",
    "    'AS_EVITM_RSLT_VAL_11',\n",
    "    'AS_EVITM_RSLT_VAL_12',\n",
    "    'AS_EVITM_RSLT_VAL_13',\n",
    "    'AS_EVITM_RSLT_VAL_14',\n",
    "    #'AS_EVITM_RSLT_VAL_15',\n",
    "    'AS_EVITM_RSLT_VAL_16'\n",
    "]\n",
    "\n",
    "str_columns = [\n",
    "    'FEE_PROD_ID',\n",
    "    'SVC_CD',\n",
    "    'AS_EVITM_RSLT_VAL_02',\n",
    "    'AS_EVITM_RSLT_VAL_03',\n",
    "    'AS_EVITM_RSLT_VAL_04',\n",
    "    'AS_EVITM_RSLT_VAL_05',\n",
    "    'AS_EVITM_RSLT_VAL_07'\n",
    "]\n",
    "\n",
    "csv = pd.read_csv('temp.csv', nrows=nrows)\n",
    "csv['AS_EVITM_RSLT_VAL_05'] = csv['AS_EVITM_RSLT_VAL_05'].fillna(value='X')\n",
    "\n",
    "for col_nm in str_columns:\n",
    "    try:\n",
    "        le = LabelEncoder()\n",
    "        le.fit(csv[col_nm])\n",
    "        csv[col_nm] = le.transform(csv[col_nm])\n",
    "    except TypeError as e:\n",
    "        print(e, col_nm)\n",
    "    except ValueError as e:\n",
    "        print(e, col_nm)\n",
    "\n",
    "#print(csv)\n",
    "\n",
    "csv_data = csv[feature_columns]\n",
    "csv_label = csv['M1']\n",
    "\n",
    "clf = RandomForestClassifier(n_estimators=100, n_jobs=-1)\n",
    "scores = cross_val_score(clf, csv_data, csv_label, cv=10)\n",
    "print(\"each accuracy : \", scores)\n",
    "print(\"avg accuracy : \", scores.mean())"
   ]
  },
  {
   "cell_type": "code",
   "execution_count": 29,
   "metadata": {
    "collapsed": true
   },
   "outputs": [],
   "source": [
    "RandomForestClassifier?"
   ]
  },
  {
   "cell_type": "code",
   "execution_count": null,
   "metadata": {
    "collapsed": true
   },
   "outputs": [],
   "source": []
  }
 ],
 "metadata": {
  "kernelspec": {
   "display_name": "Python 3",
   "language": "python",
   "name": "python3"
  },
  "language_info": {
   "codemirror_mode": {
    "name": "ipython",
    "version": 3
   },
   "file_extension": ".py",
   "mimetype": "text/x-python",
   "name": "python",
   "nbconvert_exporter": "python",
   "pygments_lexer": "ipython3",
   "version": "3.6.1"
  }
 },
 "nbformat": 4,
 "nbformat_minor": 2
}
