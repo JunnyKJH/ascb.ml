{
 "cells": [
  {
   "cell_type": "code",
   "execution_count": 33,
   "metadata": {},
   "outputs": [
    {
     "name": "stdout",
     "output_type": "stream",
     "text": [
      "0.838344852347\n"
     ]
    },
    {
     "data": {
      "image/png": "[encoded data removed]",
      "text/plain": [
       "<matplotlib.figure.Figure at 0x185929b0>"
      ]
     },
     "metadata": {},
     "output_type": "display_data"
    },
    {
     "data": {
      "text/plain": [
       "['rf.pkl']"
      ]
     },
     "execution_count": 33,
     "metadata": {},
     "output_type": "execute_result"
    }
   ],
   "source": [
    "%matplotlib inline\n",
    "import pandas as pd\n",
    "from sklearn.ensemble import RandomForestClassifier\n",
    "from sklearn import metrics, svm\n",
    "from sklearn.model_selection import train_test_split\n",
    "from sklearn.preprocessing import LabelEncoder\n",
    "from sklearn.externals import joblib\n",
    "import matplotlib.pyplot as plt\n",
    "import numpy as np\n",
    "\n",
    "nrows = None\n",
    "\n",
    "feature_columns = ['FEE_PROD_ID','SKB_CB_CRDT_GR','VAL_1','VAL_3','VAL_4','VAL_5','VAL_6','VAL_7','VAL_9','VAL_10','VAL_11','VAL_12','VAL_13','VAL_14','VAL_15','VAL_16']\n",
    "str_columns = ['FEE_PROD_ID', 'CO_CL_CD', 'SVC_CD', 'VAL_2', 'VAL_3', 'VAL_4', 'VAL_5', 'VAL_7']\n",
    "\n",
    "csv = pd.read_csv('rawdata2.csv', nrows=nrows)\n",
    "\n",
    "for col_nm in str_columns:\n",
    "    try:\n",
    "        le = LabelEncoder()\n",
    "        le.fit(csv[col_nm])\n",
    "        csv[col_nm] = le.transform(csv[col_nm])\n",
    "    except TypeError as e:\n",
    "        print(e, col_nm)\n",
    "    except ValueError as e:\n",
    "        print(e, col_nm)\n",
    "        \n",
    "#print(csv)\n",
    "\n",
    "csv_data = csv[feature_columns]\n",
    "csv_label = csv.iloc[:, 20]\n",
    "\n",
    "train_data, test_data, train_label, test_label = train_test_split(csv_data, csv_label)\n",
    "\n",
    "clf = RandomForestClassifier()\n",
    "clf.fit(train_data, train_label)\n",
    "pre = clf.predict(test_data)\n",
    "\n",
    "ac_score = metrics.accuracy_score(test_label, pre)\n",
    "print(ac_score)\n",
    "\n",
    "n_features = csv_data.shape[1]\n",
    "plt.style.use('ggplot')\n",
    "plt.barh(range(n_features), clf.feature_importances_, align='center')\n",
    "plt.yticks(np.arange(n_features), csv_data.columns)\n",
    "plt.xlabel(\"importances\")\n",
    "plt.ylabel(\"features\")\n",
    "plt.ylim(-1, n_features)\n",
    "plt.show()\n",
    "\n",
    "joblib.dump(clf, 'rf.pkl')"
   ]
  },
  {
   "cell_type": "code",
   "execution_count": 14,
   "metadata": {},
   "outputs": [
    {
     "data": {
      "text/plain": [
       "LabelEncoder()"
      ]
     },
     "execution_count": 14,
     "metadata": {},
     "output_type": "execute_result"
    }
   ],
   "source": [
    "from sklearn.preprocessing import LabelEncoder\n",
    "le = LabelEncoder()\n",
    "le.fit(csv['FEE_PROD_ID'])"
   ]
  },
  {
   "cell_type": "code",
   "execution_count": 18,
   "metadata": {},
   "outputs": [
    {
     "data": {
      "text/plain": [
       "array([ 0.07836402,  0.0005205 ,  0.01381162,  0.07649161,  0.15967309,\n",
       "        0.00058923,  0.01397244,  0.03156168,  0.08154588,  0.00921782,\n",
       "        0.0213817 ,  0.00036496,  0.01457285,  0.01915387,  0.16345904,\n",
       "        0.17992524,  0.04555395,  0.0633097 ,  0.00728403,  0.01924677])"
      ]
     },
     "execution_count": 18,
     "metadata": {},
     "output_type": "execute_result"
    }
   ],
   "source": [
    "clf.feature_importances_"
   ]
  },
  {
   "cell_type": "code",
   "execution_count": 19,
   "metadata": {},
   "outputs": [
    {
     "data": {
      "text/plain": [
       "1.0"
      ]
     },
     "execution_count": 19,
     "metadata": {},
     "output_type": "execute_result"
    }
   ],
   "source": [
    "sum(clf.feature_importances_)"
   ]
  },
  {
   "cell_type": "code",
   "execution_count": 11,
   "metadata": {},
   "outputs": [
    {
     "data": {
      "text/plain": [
       "Index(['CO_CL_CD', 'SVC_CD', 'SKB_CB_CRDT_GR', 'VAL_1', 'VAL_2', 'VAL_3',\n",
       "       'VAL_4', 'VAL_5', 'VAL_6', 'VAL_7', 'VAL_8', 'VAL_9', 'VAL_10',\n",
       "       'VAL_11', 'VAL_12', 'VAL_13', 'VAL_14', 'VAL_15', 'VAL_16'],\n",
       "      dtype='object')"
      ]
     },
     "execution_count": 11,
     "metadata": {},
     "output_type": "execute_result"
    }
   ],
   "source": [
    "csv_data.columns"
   ]
  },
  {
   "cell_type": "code",
   "execution_count": 8,
   "metadata": {
    "collapsed": true
   },
   "outputs": [],
   "source": [
    "from sklearn.datasets import load_breast_cancer\n",
    "\n",
    "cancer = load_breast_cancer()"
   ]
  },
  {
   "cell_type": "code",
   "execution_count": 9,
   "metadata": {},
   "outputs": [
    {
     "data": {
      "text/plain": [
       "sklearn.datasets.base.Bunch"
      ]
     },
     "execution_count": 9,
     "metadata": {},
     "output_type": "execute_result"
    }
   ],
   "source": [
    "type(cancer)"
   ]
  },
  {
   "cell_type": "code",
   "execution_count": 10,
   "metadata": {},
   "outputs": [
    {
     "data": {
      "text/plain": [
       "array(['mean radius', 'mean texture', 'mean perimeter', 'mean area',\n",
       "       'mean smoothness', 'mean compactness', 'mean concavity',\n",
       "       'mean concave points', 'mean symmetry', 'mean fractal dimension',\n",
       "       'radius error', 'texture error', 'perimeter error', 'area error',\n",
       "       'smoothness error', 'compactness error', 'concavity error',\n",
       "       'concave points error', 'symmetry error', 'fractal dimension error',\n",
       "       'worst radius', 'worst texture', 'worst perimeter', 'worst area',\n",
       "       'worst smoothness', 'worst compactness', 'worst concavity',\n",
       "       'worst concave points', 'worst symmetry', 'worst fractal dimension'], \n",
       "      dtype='<U23')"
      ]
     },
     "execution_count": 10,
     "metadata": {},
     "output_type": "execute_result"
    }
   ],
   "source": [
    "cancer.feature_names"
   ]
  },
  {
   "cell_type": "code",
   "execution_count": 31,
   "metadata": {
    "collapsed": true
   },
   "outputs": [],
   "source": [
    "from sklearn.externals import joblib"
   ]
  },
  {
   "cell_type": "code",
   "execution_count": 32,
   "metadata": {},
   "outputs": [
    {
     "data": {
      "text/plain": [
       "['Logger',\n",
       " 'MemorizedResult',\n",
       " 'Memory',\n",
       " 'Parallel',\n",
       " 'PrintTime',\n",
       " '__all__',\n",
       " '__builtins__',\n",
       " '__cached__',\n",
       " '__doc__',\n",
       " '__file__',\n",
       " '__loader__',\n",
       " '__name__',\n",
       " '__package__',\n",
       " '__path__',\n",
       " '__spec__',\n",
       " '__version__',\n",
       " '_compat',\n",
       " '_memory_helpers',\n",
       " '_multiprocessing_helpers',\n",
       " '_parallel_backends',\n",
       " 'cpu_count',\n",
       " 'delayed',\n",
       " 'disk',\n",
       " 'dump',\n",
       " 'effective_n_jobs',\n",
       " 'format_stack',\n",
       " 'func_inspect',\n",
       " 'hash',\n",
       " 'hashing',\n",
       " 'load',\n",
       " 'logger',\n",
       " 'memory',\n",
       " 'my_exceptions',\n",
       " 'numpy_pickle',\n",
       " 'numpy_pickle_compat',\n",
       " 'numpy_pickle_utils',\n",
       " 'parallel',\n",
       " 'parallel_backend',\n",
       " 'pool',\n",
       " 'register_parallel_backend']"
      ]
     },
     "execution_count": 32,
     "metadata": {},
     "output_type": "execute_result"
    }
   ],
   "source": [
    "dir(joblib)"
   ]
  },
  {
   "cell_type": "code",
   "execution_count": 11,
   "metadata": {},
   "outputs": [
    {
     "name": "stdout",
     "output_type": "stream",
     "text": [
      "0.92007827188\n"
     ]
    },
    {
     "data": {
      "image/png": "[encoded data removed]",
      "text/plain": [
       "<matplotlib.figure.Figure at 0x6eebcc0>"
      ]
     },
     "metadata": {},
     "output_type": "display_data"
    },
    {
     "data": {
      "text/plain": [
       "['rf.pkl']"
      ]
     },
     "execution_count": 11,
     "metadata": {},
     "output_type": "execute_result"
    }
   ],
   "source": [
    "%matplotlib inline\n",
    "import pandas as pd\n",
    "from sklearn.ensemble import RandomForestClassifier\n",
    "from sklearn import metrics, svm\n",
    "from sklearn.model_selection import train_test_split\n",
    "from sklearn.preprocessing import LabelEncoder\n",
    "from sklearn.externals import joblib\n",
    "import matplotlib.pyplot as plt\n",
    "import numpy as np\n",
    "\n",
    "nrows = None\n",
    "\n",
    "feature_columns = [\n",
    "    'FEE_PROD_ID',\n",
    "    #'SVC_CD',\n",
    "    'SKB_CB_CRDT_GR',\n",
    "    'AS_EVITM_RSLT_VAL_01',\n",
    "    #'AS_EVITM_RSLT_VAL_02',\n",
    "    'AS_EVITM_RSLT_VAL_03',\n",
    "    'AS_EVITM_RSLT_VAL_04',\n",
    "    'AS_EVITM_RSLT_VAL_05',\n",
    "    'AS_EVITM_RSLT_VAL_06',\n",
    "    'AS_EVITM_RSLT_VAL_07',\n",
    "    #'AS_EVITM_RSLT_VAL_08',\n",
    "    'AS_EVITM_RSLT_VAL_09',\n",
    "    'AS_EVITM_RSLT_VAL_10',\n",
    "    'AS_EVITM_RSLT_VAL_11',\n",
    "    'AS_EVITM_RSLT_VAL_12',\n",
    "    'AS_EVITM_RSLT_VAL_13',\n",
    "    'AS_EVITM_RSLT_VAL_14',\n",
    "    #'AS_EVITM_RSLT_VAL_15',\n",
    "    'AS_EVITM_RSLT_VAL_16'\n",
    "]\n",
    "\n",
    "str_columns = [\n",
    "    'FEE_PROD_ID',\n",
    "    'SVC_CD',\n",
    "    'AS_EVITM_RSLT_VAL_02',\n",
    "    'AS_EVITM_RSLT_VAL_03',\n",
    "    'AS_EVITM_RSLT_VAL_04',\n",
    "    'AS_EVITM_RSLT_VAL_05',\n",
    "    'AS_EVITM_RSLT_VAL_07'\n",
    "]\n",
    "\n",
    "csv = pd.read_csv('temp.csv', nrows=nrows)\n",
    "csv['AS_EVITM_RSLT_VAL_05'] = csv['AS_EVITM_RSLT_VAL_05'].fillna(value='X')\n",
    "\n",
    "for col_nm in str_columns:\n",
    "    try:\n",
    "        le = LabelEncoder()\n",
    "        le.fit(csv[col_nm])\n",
    "        csv[col_nm] = le.transform(csv[col_nm])\n",
    "    except TypeError as e:\n",
    "        print(e, col_nm)\n",
    "    except ValueError as e:\n",
    "        print(e, col_nm)\n",
    "\n",
    "#print(csv)\n",
    "\n",
    "csv_data = csv[feature_columns]\n",
    "csv_label = csv['M1']\n",
    "\n",
    "train_data, test_data, train_label, test_label = train_test_split(csv_data, csv_label)\n",
    "\n",
    "clf = RandomForestClassifier(n_estimators=100, random_state=0)\n",
    "clf.fit(train_data, train_label)\n",
    "pre = clf.predict(test_data)\n",
    "\n",
    "ac_score = metrics.accuracy_score(test_label, pre)\n",
    "print(ac_score)\n",
    "\n",
    "n_features = csv_data.shape[1]\n",
    "plt.style.use('ggplot')\n",
    "plt.barh(range(n_features), clf.feature_importances_, align='center')\n",
    "plt.yticks(np.arange(n_features), csv_data.columns)\n",
    "plt.xlabel(\"importances\")\n",
    "plt.ylabel(\"features\")\n",
    "plt.ylim(-1, n_features)\n",
    "plt.show()\n",
    "\n",
    "joblib.dump(clf, 'rf.pkl')"
   ]
  },
  {
   "cell_type": "code",
   "execution_count": 8,
   "metadata": {},
   "outputs": [
    {
     "data": {
      "text/plain": [
       "array([ 0.08703535,  0.09009931,  0.16566786,  0.0159381 ,  0.03749587,\n",
       "        0.04892768,  0.01300261,  0.02398124,  0.01738776,  0.0256318 ,\n",
       "        0.164911  ,  0.18386883,  0.04287924,  0.05989845,  0.02327489])"
      ]
     },
     "execution_count": 8,
     "metadata": {},
     "output_type": "execute_result"
    }
   ],
   "source": [
    "clf.feature_importances_"
   ]
  },
  {
   "cell_type": "code",
   "execution_count": 6,
   "metadata": {},
   "outputs": [],
   "source": [
    "RandomForestClassifier?"
   ]
  },
  {
   "cell_type": "code",
   "execution_count": 18,
   "metadata": {},
   "outputs": [
    {
     "name": "stdout",
     "output_type": "stream",
     "text": [
      "0.919029531008\n"
     ]
    },
    {
     "data": {
      "image/png": "[encoded data removed]",
      "text/plain": [
       "<matplotlib.figure.Figure at 0xd43dc50>"
      ]
     },
     "metadata": {},
     "output_type": "display_data"
    },
    {
     "data": {
      "text/plain": [
       "['rf.pkl']"
      ]
     },
     "execution_count": 18,
     "metadata": {},
     "output_type": "execute_result"
    }
   ],
   "source": [
    "%matplotlib inline\n",
    "import pandas as pd\n",
    "from sklearn.ensemble import RandomForestClassifier\n",
    "from sklearn import metrics, svm\n",
    "from sklearn.model_selection import train_test_split\n",
    "from sklearn.preprocessing import LabelEncoder\n",
    "from sklearn.externals import joblib\n",
    "import matplotlib.pyplot as plt\n",
    "import numpy as np\n",
    "\n",
    "nrows = None\n",
    "\n",
    "feature_columns = [\n",
    "    'FEE_PROD_ID',\n",
    "    #'SVC_CD',\n",
    "    'SKB_CB_CRDT_GR',\n",
    "    'AS_EVITM_RSLT_VAL_01',\n",
    "    #'AS_EVITM_RSLT_VAL_02',\n",
    "    'AS_EVITM_RSLT_VAL_03',\n",
    "    'AS_EVITM_RSLT_VAL_04',\n",
    "    'AS_EVITM_RSLT_VAL_05',\n",
    "    'AS_EVITM_RSLT_VAL_06',\n",
    "    'AS_EVITM_RSLT_VAL_07',\n",
    "    #'AS_EVITM_RSLT_VAL_08',\n",
    "    'AS_EVITM_RSLT_VAL_09',\n",
    "    'AS_EVITM_RSLT_VAL_10',\n",
    "    'AS_EVITM_RSLT_VAL_11',\n",
    "    'AS_EVITM_RSLT_VAL_12',\n",
    "    'AS_EVITM_RSLT_VAL_13',\n",
    "    'AS_EVITM_RSLT_VAL_14',\n",
    "    #'AS_EVITM_RSLT_VAL_15',\n",
    "    'AS_EVITM_RSLT_VAL_16'\n",
    "]\n",
    "\n",
    "str_columns = [\n",
    "    'FEE_PROD_ID',\n",
    "    'SVC_CD',\n",
    "    'AS_EVITM_RSLT_VAL_02',\n",
    "    'AS_EVITM_RSLT_VAL_03',\n",
    "    'AS_EVITM_RSLT_VAL_04',\n",
    "    'AS_EVITM_RSLT_VAL_05',\n",
    "    'AS_EVITM_RSLT_VAL_07'\n",
    "]\n",
    "\n",
    "csv = pd.read_csv('temp.csv', nrows=nrows)\n",
    "csv['AS_EVITM_RSLT_VAL_05'] = csv['AS_EVITM_RSLT_VAL_05'].fillna(value='X')\n",
    "\n",
    "for col_nm in str_columns:\n",
    "    try:\n",
    "        le = LabelEncoder()\n",
    "        le.fit(csv[col_nm])\n",
    "        csv[col_nm] = le.transform(csv[col_nm])\n",
    "    except TypeError as e:\n",
    "        print(e, col_nm)\n",
    "    except ValueError as e:\n",
    "        print(e, col_nm)\n",
    "\n",
    "#print(csv)\n",
    "\n",
    "csv_data = csv[feature_columns]\n",
    "csv_label = csv['M1']\n",
    "\n",
    "train_data, test_data, train_label, test_label = train_test_split(csv_data, csv_label)\n",
    "\n",
    "clf = RandomForestClassifier(n_estimators=100, n_jobs=4)\n",
    "clf.fit(train_data, train_label)\n",
    "pre = clf.predict(test_data)\n",
    "\n",
    "ac_score = metrics.accuracy_score(test_label, pre)\n",
    "print(ac_score)\n",
    "\n",
    "n_features = csv_data.shape[1]\n",
    "plt.style.use('ggplot')\n",
    "plt.barh(range(n_features), clf.feature_importances_, align='center')\n",
    "plt.yticks(np.arange(n_features), csv_data.columns)\n",
    "plt.xlabel(\"importances\")\n",
    "plt.ylabel(\"features\")\n",
    "plt.ylim(-1, n_features)\n",
    "plt.show()\n",
    "\n",
    "joblib.dump(clf, 'rf.pkl')"
   ]
  },
  {
   "cell_type": "code",
   "execution_count": 20,
   "metadata": {},
   "outputs": [
    {
     "data": {
      "text/plain": [
       "['Annotation',\n",
       " 'Arrow',\n",
       " 'Artist',\n",
       " 'AutoLocator',\n",
       " 'Axes',\n",
       " 'Button',\n",
       " 'Circle',\n",
       " 'Figure',\n",
       " 'FigureCanvasBase',\n",
       " 'FixedFormatter',\n",
       " 'FixedLocator',\n",
       " 'FormatStrFormatter',\n",
       " 'Formatter',\n",
       " 'FuncFormatter',\n",
       " 'GridSpec',\n",
       " 'IndexLocator',\n",
       " 'Line2D',\n",
       " 'LinearLocator',\n",
       " 'Locator',\n",
       " 'LogFormatter',\n",
       " 'LogFormatterExponent',\n",
       " 'LogFormatterMathtext',\n",
       " 'LogLocator',\n",
       " 'MaxNLocator',\n",
       " 'MultipleLocator',\n",
       " 'Normalize',\n",
       " 'NullFormatter',\n",
       " 'NullLocator',\n",
       " 'PolarAxes',\n",
       " 'Polygon',\n",
       " 'Rectangle',\n",
       " 'ScalarFormatter',\n",
       " 'Slider',\n",
       " 'Subplot',\n",
       " 'SubplotTool',\n",
       " 'Text',\n",
       " 'TickHelper',\n",
       " 'Widget',\n",
       " '_INSTALL_FIG_OBSERVER',\n",
       " '_IP_REGISTERED',\n",
       " '__builtins__',\n",
       " '__cached__',\n",
       " '__doc__',\n",
       " '__file__',\n",
       " '__loader__',\n",
       " '__name__',\n",
       " '__package__',\n",
       " '__spec__',\n",
       " '_auto_draw_if_interactive',\n",
       " '_autogen_docstring',\n",
       " '_backend_mod',\n",
       " '_backend_selection',\n",
       " '_hold_msg',\n",
       " '_imread',\n",
       " '_imsave',\n",
       " '_interactive_bk',\n",
       " '_pylab_helpers',\n",
       " '_setp',\n",
       " '_setup_pyplot_info_docstrings',\n",
       " '_show',\n",
       " '_string_to_bool',\n",
       " 'absolute_import',\n",
       " 'acorr',\n",
       " 'angle_spectrum',\n",
       " 'annotate',\n",
       " 'arrow',\n",
       " 'autoscale',\n",
       " 'autumn',\n",
       " 'axes',\n",
       " 'axhline',\n",
       " 'axhspan',\n",
       " 'axis',\n",
       " 'axvline',\n",
       " 'axvspan',\n",
       " 'bar',\n",
       " 'barbs',\n",
       " 'barh',\n",
       " 'bone',\n",
       " 'box',\n",
       " 'boxplot',\n",
       " 'broken_barh',\n",
       " 'cla',\n",
       " 'clabel',\n",
       " 'clf',\n",
       " 'clim',\n",
       " 'close',\n",
       " 'cm',\n",
       " 'cohere',\n",
       " 'colorbar',\n",
       " 'colormaps',\n",
       " 'colors',\n",
       " 'connect',\n",
       " 'contour',\n",
       " 'contourf',\n",
       " 'cool',\n",
       " 'copper',\n",
       " 'csd',\n",
       " 'cycler',\n",
       " 'dedent',\n",
       " 'delaxes',\n",
       " 'deprecated',\n",
       " 'disconnect',\n",
       " 'division',\n",
       " 'docstring',\n",
       " 'draw',\n",
       " 'draw_all',\n",
       " 'draw_if_interactive',\n",
       " 'errorbar',\n",
       " 'eventplot',\n",
       " 'figaspect',\n",
       " 'figimage',\n",
       " 'figlegend',\n",
       " 'fignum_exists',\n",
       " 'figtext',\n",
       " 'figure',\n",
       " 'fill',\n",
       " 'fill_between',\n",
       " 'fill_betweenx',\n",
       " 'findobj',\n",
       " 'flag',\n",
       " 'gca',\n",
       " 'gcf',\n",
       " 'gci',\n",
       " 'get',\n",
       " 'get_backend',\n",
       " 'get_cmap',\n",
       " 'get_current_fig_manager',\n",
       " 'get_figlabels',\n",
       " 'get_fignums',\n",
       " 'get_plot_commands',\n",
       " 'get_scale_docs',\n",
       " 'get_scale_names',\n",
       " 'getp',\n",
       " 'ginput',\n",
       " 'gray',\n",
       " 'grid',\n",
       " 'hexbin',\n",
       " 'hist',\n",
       " 'hist2d',\n",
       " 'hlines',\n",
       " 'hold',\n",
       " 'hot',\n",
       " 'hsv',\n",
       " 'imread',\n",
       " 'imsave',\n",
       " 'imshow',\n",
       " 'inferno',\n",
       " 'install_repl_displayhook',\n",
       " 'interactive',\n",
       " 'ioff',\n",
       " 'ion',\n",
       " 'is_numlike',\n",
       " 'is_string_like',\n",
       " 'ishold',\n",
       " 'isinteractive',\n",
       " 'jet',\n",
       " 'legend',\n",
       " 'locator_params',\n",
       " 'loglog',\n",
       " 'magma',\n",
       " 'magnitude_spectrum',\n",
       " 'margins',\n",
       " 'matplotlib',\n",
       " 'matshow',\n",
       " 'minorticks_off',\n",
       " 'minorticks_on',\n",
       " 'mlab',\n",
       " 'new_figure_manager',\n",
       " 'nipy_spectral',\n",
       " 'np',\n",
       " 'over',\n",
       " 'pause',\n",
       " 'pcolor',\n",
       " 'pcolormesh',\n",
       " 'phase_spectrum',\n",
       " 'pie',\n",
       " 'pink',\n",
       " 'plasma',\n",
       " 'plot',\n",
       " 'plot_date',\n",
       " 'plotfile',\n",
       " 'plotting',\n",
       " 'polar',\n",
       " 'print_function',\n",
       " 'prism',\n",
       " 'psd',\n",
       " 'pylab_setup',\n",
       " 'quiver',\n",
       " 'quiverkey',\n",
       " 'rc',\n",
       " 'rcParams',\n",
       " 'rcParamsDefault',\n",
       " 'rc_context',\n",
       " 'rcdefaults',\n",
       " 'register_cmap',\n",
       " 'rgrids',\n",
       " 'savefig',\n",
       " 'sca',\n",
       " 'scatter',\n",
       " 'sci',\n",
       " 'semilogx',\n",
       " 'semilogy',\n",
       " 'set_cmap',\n",
       " 'setp',\n",
       " 'show',\n",
       " 'silent_list',\n",
       " 'six',\n",
       " 'specgram',\n",
       " 'spectral',\n",
       " 'spring',\n",
       " 'spy',\n",
       " 'stackplot',\n",
       " 'stem',\n",
       " 'step',\n",
       " 'streamplot',\n",
       " 'style',\n",
       " 'subplot',\n",
       " 'subplot2grid',\n",
       " 'subplot_tool',\n",
       " 'subplots',\n",
       " 'subplots_adjust',\n",
       " 'summer',\n",
       " 'suptitle',\n",
       " 'switch_backend',\n",
       " 'sys',\n",
       " 'table',\n",
       " 'text',\n",
       " 'thetagrids',\n",
       " 'tick_params',\n",
       " 'ticklabel_format',\n",
       " 'tight_layout',\n",
       " 'title',\n",
       " 'tricontour',\n",
       " 'tricontourf',\n",
       " 'tripcolor',\n",
       " 'triplot',\n",
       " 'twinx',\n",
       " 'twiny',\n",
       " 'types',\n",
       " 'unicode_literals',\n",
       " 'uninstall_repl_displayhook',\n",
       " 'violinplot',\n",
       " 'viridis',\n",
       " 'vlines',\n",
       " 'waitforbuttonpress',\n",
       " 'warnings',\n",
       " 'winter',\n",
       " 'xcorr',\n",
       " 'xkcd',\n",
       " 'xlabel',\n",
       " 'xlim',\n",
       " 'xscale',\n",
       " 'xticks',\n",
       " 'ylabel',\n",
       " 'ylim',\n",
       " 'yscale',\n",
       " 'yticks']"
      ]
     },
     "execution_count": 20,
     "metadata": {},
     "output_type": "execute_result"
    }
   ],
   "source": [
    "dir(plt)"
   ]
  },
  {
   "cell_type": "code",
   "execution_count": null,
   "metadata": {
    "collapsed": true
   },
   "outputs": [],
   "source": []
  }
 ],
 "metadata": {
  "kernelspec": {
   "display_name": "Python 3",
   "language": "python",
   "name": "python3"
  },
  "language_info": {
   "codemirror_mode": {
    "name": "ipython",
    "version": 3
   },
   "file_extension": ".py",
   "mimetype": "text/x-python",
   "name": "python",
   "nbconvert_exporter": "python",
   "pygments_lexer": "ipython3",
   "version": "3.6.1"
  }
 },
 "nbformat": 4,
 "nbformat_minor": 2
}
